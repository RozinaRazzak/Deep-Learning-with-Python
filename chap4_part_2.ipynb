{
  "nbformat": 4,
  "nbformat_minor": 0,
  "metadata": {
    "colab": {
      "provenance": []
    },
    "kernelspec": {
      "name": "python3",
      "display_name": "Python 3"
    },
    "language_info": {
      "name": "python"
    }
  },
  "cells": [
    {
      "cell_type": "markdown",
      "source": [
        "# Original model"
      ],
      "metadata": {
        "id": "sLTyzaDJPbVY"
      }
    },
    {
      "cell_type": "code",
      "execution_count": null,
      "metadata": {
        "id": "4s8nSkKXPL5X"
      },
      "outputs": [],
      "source": [
        "from keras import models\n",
        "from keras import layers"
      ]
    },
    {
      "cell_type": "code",
      "source": [
        "model = models.Sequential()\n",
        "model.add(layers.Dense(16, activation = \"relu\", input_shape = (10000,)))\n",
        "model.add(layers.Dense(16, activation  = \"relu\"))\n",
        "model.add(layers.Dense(1, activation = \"sigmoid\"))"
      ],
      "metadata": {
        "colab": {
          "base_uri": "https://localhost:8080/"
        },
        "id": "rdmJhP-qPzrA",
        "outputId": "c8004b6a-46e8-4c03-82ca-486360a24885"
      },
      "execution_count": null,
      "outputs": [
        {
          "output_type": "stream",
          "name": "stderr",
          "text": [
            "/usr/local/lib/python3.10/dist-packages/keras/src/layers/core/dense.py:87: UserWarning: Do not pass an `input_shape`/`input_dim` argument to a layer. When using Sequential models, prefer using an `Input(shape)` object as the first layer in the model instead.\n",
            "  super().__init__(activity_regularizer=activity_regularizer, **kwargs)\n"
          ]
        }
      ]
    },
    {
      "cell_type": "markdown",
      "source": [
        "# Version of the model with lower capacity"
      ],
      "metadata": {
        "id": "Bi6ounpqQe5j"
      }
    },
    {
      "cell_type": "code",
      "source": [
        "model = models.Sequential()\n",
        "model.add(layers.Dense(4, activation = \"relu\", input_shape = (10000,)))\n",
        "model.add(layers.Dense(4, activation = \"relu\"))\n",
        "model.add(layers.Dense(1, activation = \"sigmoid\"))"
      ],
      "metadata": {
        "id": "EJ7sfCgrQYHc"
      },
      "execution_count": null,
      "outputs": []
    },
    {
      "cell_type": "markdown",
      "source": [
        "# Version of the model with higher capacity"
      ],
      "metadata": {
        "id": "bJ68t40kSuST"
      }
    },
    {
      "cell_type": "code",
      "source": [
        "model = models.Sequential()\n",
        "model.add(layers.Dense(512, activation = \"relu\", input_shape = (10000,)))\n",
        "model.add(layers.Dense(512, activation  = \"relu\"))\n",
        "model.add(layers.Dense(1, activation = \"sigmoid\"))"
      ],
      "metadata": {
        "id": "HHKFZEJ0RHO5"
      },
      "execution_count": null,
      "outputs": []
    },
    {
      "cell_type": "markdown",
      "source": [
        "# Adding L2 weight regularization to the model"
      ],
      "metadata": {
        "id": "mz8v_IkpZkCd"
      }
    },
    {
      "cell_type": "code",
      "source": [
        "from keras import regularizers\n",
        "\n",
        "model = models.Sequential()\n",
        "model.add(layers.Dense(16, kernel_regularizer=regularizers.l2(0.001),\n",
        "                       activation = \"relu\", input_shape = (10000,)))\n",
        "model.add(layers.Dense(16, kernel_regularizer=regularizers.l2(0.001),\n",
        "                       activation = \"relu\"))\n",
        "model.add(layers.Dense(1, activation = \"sigmoid\"))"
      ],
      "metadata": {
        "id": "2GVa9-PtZuWO"
      },
      "execution_count": null,
      "outputs": []
    },
    {
      "cell_type": "markdown",
      "source": [
        "# Different weight regularizers available in keras"
      ],
      "metadata": {
        "id": "4fBzeW0zfLP-"
      }
    },
    {
      "cell_type": "code",
      "source": [
        "from keras import regularizers\n",
        "\n",
        "regularizers.l1(0.001)\n",
        "\n",
        "regularizers.l1_l2(l1 = 0.001, l2 = 0.001)"
      ],
      "metadata": {
        "colab": {
          "base_uri": "https://localhost:8080/"
        },
        "id": "qky_ROO1bgIG",
        "outputId": "33defe05-7d9c-432d-ff2f-601a6dace259"
      },
      "execution_count": null,
      "outputs": [
        {
          "output_type": "execute_result",
          "data": {
            "text/plain": [
              "<keras.src.regularizers.regularizers.L1L2 at 0x7f06f1966260>"
            ]
          },
          "metadata": {},
          "execution_count": 6
        }
      ]
    },
    {
      "cell_type": "markdown",
      "source": [
        "# Adding dropout to the IMBD network"
      ],
      "metadata": {
        "id": "OSR57P5A4YLu"
      }
    },
    {
      "cell_type": "code",
      "source": [
        "model = models.Sequential()\n",
        "model.add(layers.Dense(16, activation = \"relu\", input_shape = (10000,)))\n",
        "model.add(layers.Dropout(0.5))\n",
        "model.add(layers.Dense(16, activation = \"relu\"))\n",
        "model.add(layers.Dropout(0.5))\n",
        "model.add(layers.Dense(1, activation = \"sigmoid\"))"
      ],
      "metadata": {
        "id": "tgmpaX03fxJ2",
        "colab": {
          "base_uri": "https://localhost:8080/"
        },
        "outputId": "1df93370-c2f5-4d4d-c05e-a68d3fc601a0"
      },
      "execution_count": null,
      "outputs": [
        {
          "output_type": "stream",
          "name": "stderr",
          "text": [
            "/usr/local/lib/python3.10/dist-packages/keras/src/layers/core/dense.py:87: UserWarning: Do not pass an `input_shape`/`input_dim` argument to a layer. When using Sequential models, prefer using an `Input(shape)` object as the first layer in the model instead.\n",
            "  super().__init__(activity_regularizer=activity_regularizer, **kwargs)\n"
          ]
        }
      ]
    },
    {
      "cell_type": "code",
      "source": [],
      "metadata": {
        "id": "g769Qbxz5ZMY"
      },
      "execution_count": null,
      "outputs": []
    }
  ]
}