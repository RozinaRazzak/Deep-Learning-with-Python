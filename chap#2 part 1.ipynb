{
 "cells": [
  {
   "cell_type": "code",
   "execution_count": null,
   "id": "f2da466c-be99-4584-83d5-ea56700c3e17",
   "metadata": {},
   "outputs": [],
   "source": [
    "!pip install tensorflow\n",
    "import tensorflow as tf"
   ]
  },
  {
   "cell_type": "code",
   "execution_count": null,
   "id": "5e92b352-6322-4ad1-9683-172d2b427940",
   "metadata": {},
   "outputs": [],
   "source": [
    "print(tf.__version__)"
   ]
  },
  {
   "cell_type": "markdown",
   "id": "844f9280-2968-4f9e-861c-4f20490a78b8",
   "metadata": {},
   "source": [
    "# Loading Mnist Dataset in Keras"
   ]
  },
  {
   "cell_type": "code",
   "execution_count": null,
   "id": "2cc9675c-ff9a-478c-b90d-e3418b786524",
   "metadata": {},
   "outputs": [],
   "source": [
    "from tensorflow.keras.datasets import mnist"
   ]
  },
  {
   "cell_type": "code",
   "execution_count": null,
   "id": "155e5d7a-34cb-4355-9739-16e4a44d9e42",
   "metadata": {},
   "outputs": [],
   "source": [
    "(train_images, train_labels), (test_images, test_labels) = mnist.load_data()"
   ]
  },
  {
   "cell_type": "code",
   "execution_count": null,
   "id": "b0f944d8-6ffc-44b0-ac8e-0cbc299eb121",
   "metadata": {},
   "outputs": [],
   "source": [
    "train_images.shape"
   ]
  },
  {
   "cell_type": "code",
   "execution_count": null,
   "id": "f365db98-d557-430e-bcd7-cbb1687f4ce5",
   "metadata": {},
   "outputs": [],
   "source": [
    "len(train_images)"
   ]
  },
  {
   "cell_type": "code",
   "execution_count": null,
   "id": "775af318-5bdb-427b-948f-5428c8d9b422",
   "metadata": {},
   "outputs": [],
   "source": [
    "train_labels"
   ]
  },
  {
   "cell_type": "code",
   "execution_count": null,
   "id": "3a4b9faa-d905-4490-9697-9631c73a8aed",
   "metadata": {},
   "outputs": [],
   "source": [
    "test_images.shape"
   ]
  },
  {
   "cell_type": "markdown",
   "id": "eebd0d9d-1016-4cea-8b4d-59d5b71b0d1d",
   "metadata": {},
   "source": [
    "# The Network Architecture"
   ]
  },
  {
   "cell_type": "code",
   "execution_count": null,
   "id": "d545d223-c188-4beb-bb95-d0a469757138",
   "metadata": {},
   "outputs": [],
   "source": [
    "from tensorflow.keras import models\n",
    "from tensorflow.keras import layers"
   ]
  },
  {
   "cell_type": "code",
   "execution_count": null,
   "id": "c6d34f8a-dd12-4c08-9a32-6705c506c4b0",
   "metadata": {},
   "outputs": [],
   "source": [
    "network = models.Sequential()"
   ]
  },
  {
   "cell_type": "code",
   "execution_count": null,
   "id": "13ca63c1-8f38-49f2-b7e9-e05d08e9e528",
   "metadata": {},
   "outputs": [],
   "source": [
    "network.add(layers.Dense(512,activation=\"relu\", input_shape = (28*28,)))"
   ]
  },
  {
   "cell_type": "code",
   "execution_count": null,
   "id": "0d3ad911-1f51-4973-8df3-1267972b48d3",
   "metadata": {},
   "outputs": [],
   "source": [
    "network.add(layers.Dense(10,activation=\"softmax\"))"
   ]
  },
  {
   "cell_type": "markdown",
   "id": "7a62879e-1e23-4c4e-9d19-29723615d5bd",
   "metadata": {},
   "source": [
    "# The Compilation Step"
   ]
  },
  {
   "cell_type": "code",
   "execution_count": null,
   "id": "d1c06f9e-e1e5-45bd-bd0b-13f2e1b2ada4",
   "metadata": {},
   "outputs": [],
   "source": [
    "network.compile(optimizer='rmsprop',loss='categorical_crossentropy',metrics= ['accuracy'])"
   ]
  },
  {
   "cell_type": "markdown",
   "id": "67be7333-6b8c-4233-9e96-f2c8d86c2563",
   "metadata": {},
   "source": [
    "# Preparing the Image data"
   ]
  },
  {
   "cell_type": "code",
   "execution_count": null,
   "id": "f83f2b99-f347-4f97-9180-8eb5f821de35",
   "metadata": {},
   "outputs": [],
   "source": [
    "train_images = train_images.reshape((60000,28*28))"
   ]
  },
  {
   "cell_type": "code",
   "execution_count": null,
   "id": "f4ab02c9-e1b0-4bb8-ac1e-e2cd312f83fb",
   "metadata": {},
   "outputs": [],
   "source": [
    "train_images = train_images.astype('float32') / 255"
   ]
  },
  {
   "cell_type": "code",
   "execution_count": null,
   "id": "a13d5e88-be4d-4fac-99ea-a638518acf4a",
   "metadata": {},
   "outputs": [],
   "source": [
    "test_images = test_images.reshape((10000,28*28))"
   ]
  },
  {
   "cell_type": "code",
   "execution_count": null,
   "id": "000b4be3-b4ea-4c8f-b3df-1d3538567dc6",
   "metadata": {},
   "outputs": [],
   "source": [
    "test_images = test_images.astype('float32') / 255"
   ]
  },
  {
   "cell_type": "markdown",
   "id": "aafc3d8d-0d71-4135-a8b3-63fa8405dad3",
   "metadata": {},
   "source": [
    "# Preparing the Labels"
   ]
  },
  {
   "cell_type": "code",
   "execution_count": null,
   "id": "8d8ab2c9-4a8c-4410-860e-c43b5d571bb4",
   "metadata": {},
   "outputs": [],
   "source": [
    "from tensorflow.keras.utils import to_categorical"
   ]
  },
  {
   "cell_type": "code",
   "execution_count": null,
   "id": "400d8fd5-f9ae-4cec-87d7-05847209a1d1",
   "metadata": {},
   "outputs": [],
   "source": [
    "train_labels = to_categorical(train_labels)"
   ]
  },
  {
   "cell_type": "code",
   "execution_count": null,
   "id": "90a819cd-3ea5-453d-8253-e8602c2944b6",
   "metadata": {},
   "outputs": [],
   "source": [
    "test_labels = to_categorical(test_labels)"
   ]
  },
  {
   "cell_type": "code",
   "execution_count": null,
   "id": "ac994c16-ca6a-4148-b5c2-af626b63b196",
   "metadata": {},
   "outputs": [],
   "source": [
    "network.fit(train_images,train_labels,epochs=8, batch_size=128)"
   ]
  },
  {
   "cell_type": "code",
   "execution_count": null,
   "id": "80360801-f139-46ec-a504-0ada886e4990",
   "metadata": {},
   "outputs": [],
   "source": [
    "test_loss, test_acc = network.evaluate(test_images, test_labels)"
   ]
  },
  {
   "cell_type": "code",
   "execution_count": null,
   "id": "96198771-c92e-444f-8f4b-1c7030762864",
   "metadata": {},
   "outputs": [],
   "source": [
    "print('test_acc: ', test_acc)"
   ]
  },
  {
   "cell_type": "markdown",
   "id": "aaaa9338",
   "metadata": {},
   "source": [
    "# Scalars (0D tensors)"
   ]
  },
  {
   "cell_type": "code",
   "execution_count": null,
   "id": "3665e879",
   "metadata": {},
   "outputs": [],
   "source": [
    "import numpy as np"
   ]
  },
  {
   "cell_type": "code",
   "execution_count": null,
   "id": "383c1cee",
   "metadata": {},
   "outputs": [],
   "source": [
    "x = np.array(12)\n",
    "x"
   ]
  },
  {
   "cell_type": "code",
   "execution_count": null,
   "id": "a47c014a",
   "metadata": {},
   "outputs": [],
   "source": [
    "x.ndim"
   ]
  },
  {
   "cell_type": "markdown",
   "id": "d707e2d1",
   "metadata": {},
   "source": [
    "# Vectors(1D tensors)"
   ]
  },
  {
   "cell_type": "code",
   "execution_count": null,
   "id": "8bb84e3e",
   "metadata": {},
   "outputs": [],
   "source": [
    "x = np.array([12,3,6,14])\n",
    "x"
   ]
  },
  {
   "cell_type": "code",
   "execution_count": null,
   "id": "0e5bdbb7",
   "metadata": {},
   "outputs": [],
   "source": [
    "x.ndim"
   ]
  },
  {
   "cell_type": "markdown",
   "id": "6e29ea71",
   "metadata": {},
   "source": [
    "# Matrices (2D tensors)"
   ]
  },
  {
   "cell_type": "code",
   "execution_count": null,
   "id": "52c0f21f",
   "metadata": {},
   "outputs": [],
   "source": [
    "x = np.array([[5,78,2,34,0],\n",
    "            [6,79,3,35,1],\n",
    "            [7,80,4,36,2]])\n",
    "x.ndim"
   ]
  },
  {
   "cell_type": "markdown",
   "id": "222f09cf",
   "metadata": {},
   "source": [
    "# 3D tensors and higher-dimensional tensors"
   ]
  },
  {
   "cell_type": "code",
   "execution_count": null,
   "id": "e3499995",
   "metadata": {},
   "outputs": [],
   "source": [
    "x = np.array([[[5, 78, 2, 34, 0],\n",
    "               [6, 79, 3, 35, 1],\n",
    "               [7, 80, 4, 36, 2]],\n",
    "              [[5, 78, 2, 34, 0],\n",
    "               [6, 79, 3, 35, 1],\n",
    "               [7, 80, 4, 36, 2]],\n",
    "              [[5, 78, 2, 34, 0],\n",
    "               [6, 79, 3, 35, 1],\n",
    "               [7, 80, 4, 36, 2]]])\n",
    "x.ndim"
   ]
  },
  {
   "cell_type": "code",
   "execution_count": null,
   "id": "1b829c8b",
   "metadata": {},
   "outputs": [],
   "source": []
  },
  {
   "cell_type": "code",
   "execution_count": null,
   "id": "ba4deaa8",
   "metadata": {},
   "outputs": [],
   "source": []
  }
 ],
 "metadata": {
  "kernelspec": {
   "display_name": "Python 3 (ipykernel)",
   "language": "python",
   "name": "python3"
  },
  "language_info": {
   "codemirror_mode": {
    "name": "ipython",
    "version": 3
   },
   "file_extension": ".py",
   "mimetype": "text/x-python",
   "name": "python",
   "nbconvert_exporter": "python",
   "pygments_lexer": "ipython3",
   "version": "3.11.4"
  }
 },
 "nbformat": 4,
 "nbformat_minor": 5
}
