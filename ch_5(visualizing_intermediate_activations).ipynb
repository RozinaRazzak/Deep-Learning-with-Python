{
  "cells": [
    {
      "cell_type": "markdown",
      "metadata": {
        "id": "nAMKDxuQKYE0"
      },
      "source": [
        "# Load the model (cats_and_dogs_small_2)"
      ]
    },
    {
      "cell_type": "code",
      "execution_count": null,
      "metadata": {
        "id": "XZU53tRvKjkz"
      },
      "outputs": [],
      "source": [
        "from keras.models import load_model\n",
        "\n",
        "model = load_model('cats_and_dogs.keras')\n",
        "model.summary()"
      ]
    },
    {
      "cell_type": "markdown",
      "metadata": {
        "id": "8hxl6UMnKz4T"
      },
      "source": [
        "# Preprocessing a single image"
      ]
    },
    {
      "cell_type": "code",
      "execution_count": null,
      "metadata": {
        "id": "FDfeIx_bK31Q"
      },
      "outputs": [],
      "source": [
        "img_path = \"image path\"\n",
        "\n",
        "from keras.preprocessing import image\n",
        "import numpy as np\n",
        "\n",
        "img = image.load_img(img_path, target_size = (150,150))\n",
        "img_tensor = image.img_to_array(img)\n",
        "img_tensor = np.expand_dims(img_tensor, axis = 0)\n",
        "img_tensor /= 255.\n",
        "\n",
        "print(img_tensor.shape)"
      ]
    },
    {
      "cell_type": "markdown",
      "metadata": {
        "id": "JHtmv5ivL6NT"
      },
      "source": [
        "# Displaying the test picture"
      ]
    },
    {
      "cell_type": "code",
      "execution_count": null,
      "metadata": {
        "id": "Ly0ZwXIhMFXM"
      },
      "outputs": [],
      "source": [
        "import matplotlib.pyplot as plt\n",
        "\n",
        "plt.imshow(img_tensor[0])\n",
        "plt.show()"
      ]
    },
    {
      "cell_type": "markdown",
      "metadata": {
        "id": "3PN5JQLqMWNH"
      },
      "source": [
        "# Instantiating a model from an input tensor and a list of output tensors"
      ]
    },
    {
      "cell_type": "code",
      "execution_count": 6,
      "metadata": {
        "id": "mz2mggdLMhco"
      },
      "outputs": [],
      "source": [
        "from keras import models\n",
        "\n",
        "layer_outputs = [layer.output for layer in model.layers[:8]]\n",
        "activation_model = models.Model(inputs = model.inputs, outputs = layer_outputs)"
      ]
    },
    {
      "cell_type": "markdown",
      "metadata": {
        "id": "8mXoCw15NDPg"
      },
      "source": [
        "# Running the model in predict mode"
      ]
    },
    {
      "cell_type": "code",
      "execution_count": null,
      "metadata": {
        "id": "Cu28muTsNHtd"
      },
      "outputs": [],
      "source": [
        "activations = activation_model.predict(img_tensor)"
      ]
    },
    {
      "cell_type": "code",
      "execution_count": null,
      "metadata": {
        "id": "uLTcLAJoNSDM"
      },
      "outputs": [],
      "source": [
        "first_layer_activation = activations[0]\n",
        "print(first_layer_activation.shape)"
      ]
    },
    {
      "cell_type": "markdown",
      "metadata": {
        "id": "5m1xQyFwNemJ"
      },
      "source": [
        "# Visualizing the fourth channel"
      ]
    },
    {
      "cell_type": "code",
      "execution_count": null,
      "metadata": {
        "id": "WVC9CHUONj6K"
      },
      "outputs": [],
      "source": [
        "import matplotlib.pyplot as plt\n",
        "\n",
        "plt.matshow(first_layer_activation[0,:,:,4], cmap = 'viridis')"
      ]
    },
    {
      "cell_type": "markdown",
      "metadata": {
        "id": "NxjUdn86PeVF"
      },
      "source": [
        "# Visualizing  the seventh channel"
      ]
    },
    {
      "cell_type": "code",
      "execution_count": null,
      "metadata": {
        "id": "020YCPgEPlX1"
      },
      "outputs": [],
      "source": [
        "plt.matshow(first_layer_activation[0,:,:,7], cmap = 'viridis')"
      ]
    },
    {
      "cell_type": "markdown",
      "metadata": {
        "id": "R0a6K-y2PxAS"
      },
      "source": [
        "# Visualizing every channel in every intermediate activation"
      ]
    },
    {
      "cell_type": "code",
      "execution_count": null,
      "metadata": {
        "id": "Fq9yjbxfP5Fg"
      },
      "outputs": [],
      "source": [
        "layer_names = []\n",
        "for layer in model.layers[:8]:\n",
        "  layer_names.append(layer.name)\n",
        "\n",
        "images_per_row = 16\n",
        "\n",
        "for layer_name, layer_activation in zip(layer_names, activations):\n",
        "  n_features = layer_activation.shape[-1]\n",
        "\n",
        "  size = layer_activation.shape[1]\n",
        "\n",
        "  n_cols = n_features // images_per_row\n",
        "  display_grid = np.zeros((size * n_cols, images_per_row * size))\n",
        "\n",
        "  for col in range(n_cols):\n",
        "    for row in range(images_per_row):\n",
        "      channel_image = layer_activation[0, :, :, col * images_per_row + row]\n",
        "\n",
        "      channel_image -= channel_image.mean()\n",
        "      channel_image /= channel_image.std()\n",
        "      channel_image *= 64\n",
        "      channel_image += 128\n",
        "      channel_image = np.clip(channel_image, 0, 255).astype('uint8')\n",
        "      display_grid[col * size : (col + 1) * size,\n",
        "                   row * size : (row + 1) * size] = channel_image\n",
        "\n",
        "      scale = 1./ size\n",
        "      plt.figure(figsize = (scale * display_grid.shape[1],\n",
        "                            scale * display_grid.shape[0]))\n",
        "\n",
        "      plt.title(layer_name)\n",
        "      plt.grid(False)\n",
        "      plt.imshow(display_grid, aspect = 'auto', cmap = 'viridis')"
      ]
    },
    {
      "cell_type": "code",
      "source": [],
      "metadata": {
        "id": "spaGAsfZ_S9c"
      },
      "execution_count": null,
      "outputs": []
    }
  ],
  "metadata": {
    "colab": {
      "provenance": [],
      "gpuType": "T4"
    },
    "kernelspec": {
      "display_name": "Python 3",
      "name": "python3"
    },
    "language_info": {
      "name": "python"
    },
    "accelerator": "GPU"
  },
  "nbformat": 4,
  "nbformat_minor": 0
}