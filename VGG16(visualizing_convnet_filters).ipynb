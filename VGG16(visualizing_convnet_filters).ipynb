{
  "nbformat": 4,
  "nbformat_minor": 0,
  "metadata": {
    "colab": {
      "provenance": [],
      "gpuType": "T4"
    },
    "kernelspec": {
      "name": "python3",
      "display_name": "Python 3"
    },
    "language_info": {
      "name": "python"
    },
    "accelerator": "GPU"
  },
  "cells": [
    {
      "cell_type": "code",
      "source": [
        "import keras\n",
        "import tensorflow as tf\n",
        "import numpy as np\n",
        "import matplotlib.pyplot as plt"
      ],
      "metadata": {
        "id": "L4ZeDhzCfcHf"
      },
      "execution_count": null,
      "outputs": []
    },
    {
      "cell_type": "code",
      "source": [
        "model = keras.applications.vgg16.VGG16(weights = 'imagenet',\n",
        "              include_top = False)\n",
        "model.summary()"
      ],
      "metadata": {
        "id": "AGA_2X0ykWPK"
      },
      "execution_count": null,
      "outputs": []
    },
    {
      "cell_type": "code",
      "source": [
        "layer_name = 'block5_conv3'\n",
        "filter_index = 0\n",
        "layer_output = model.get_layer(layer_name).output"
      ],
      "metadata": {
        "id": "T9zMP4mDgAQZ"
      },
      "execution_count": null,
      "outputs": []
    },
    {
      "cell_type": "code",
      "source": [
        "from keras import models\n",
        "feature_extractor = models.Model(inputs = model.inputs,\n",
        "                                 outputs = layer_output )\n",
        "def compute_loss(image,filter_index):\n",
        "  activation = feature_extractor(image)\n",
        "  filter_activation = activation[:,:,:,filter_index]\n",
        "  return tf.reduce_mean(filter_activation)"
      ],
      "metadata": {
        "id": "ilVzHLGKhOwL"
      },
      "execution_count": null,
      "outputs": []
    },
    {
      "cell_type": "code",
      "source": [
        "@tf.function\n",
        "def gradient_ascent_step(image, filter_index, learning_rate):\n",
        "  with tf.GradientTape() as tape:\n",
        "    tape.watch(image)\n",
        "    loss = compute_loss(image, filter_index)\n",
        "  grads = tape.gradient(loss, image)\n",
        "  grads = tf.math.l2_normalize(grads)\n",
        "  image += learning_rate * grads\n",
        "  return image"
      ],
      "metadata": {
        "id": "Zhx7OR2QiXnf"
      },
      "execution_count": null,
      "outputs": []
    },
    {
      "cell_type": "code",
      "source": [
        "img_width = 200\n",
        "img_height = 200\n",
        "\n",
        "def generate_filter_pattern(filter_index):\n",
        "  iterations = 30\n",
        "  learning_rate = 10.\n",
        "  image = tf.random.uniform(\n",
        "      minval = 0.4,\n",
        "      maxval = 0.6,\n",
        "      shape = (1, img_width, img_height,3))\n",
        "  for i in range(iterations):\n",
        "    image = gradient_ascent_step(image, filter_index, learning_rate)\n",
        "  return image[0].numpy()"
      ],
      "metadata": {
        "id": "xfbreDLbjE0p"
      },
      "execution_count": null,
      "outputs": []
    },
    {
      "cell_type": "code",
      "source": [
        "def deprocess_image(image):\n",
        "  image -= image.mean()\n",
        "  image /= image.std()\n",
        "  image *= 64\n",
        "  image += 128\n",
        "  image = np.clip(image, 0,255).astype('uint8')\n",
        "  image = image[25:-25,25:-25,:]\n",
        "  return image"
      ],
      "metadata": {
        "id": "WJau-PZ2l45q"
      },
      "execution_count": null,
      "outputs": []
    },
    {
      "cell_type": "code",
      "source": [
        "all_images = []\n",
        "for filter_index in range(64):\n",
        "  print(f\"Processing filter {filter_index}\")\n",
        "  image = deprocess_image(generate_filter_pattern(filter_index))\n",
        "  all_images.append(image)\n",
        "\n",
        "margin = 2\n",
        "n = 8\n",
        "cropped_width = img_width - 25 * 2\n",
        "cropped_height = img_height - 25 * 2\n",
        "width = n * cropped_width + (n - 1) * margin\n",
        "height = n * cropped_height + ( n - 1) * margin\n",
        "stitched_filters = np.zeros((width, height, 3))\n",
        "\n",
        "for i in range(n):\n",
        "  for j in range(n):\n",
        "    image = all_images[i * n  + j]\n",
        "    stitched_filters[(cropped_width + margin) * i:\n",
        "        (cropped_width + margin) * i + cropped_width,\n",
        "        (cropped_height + margin) * j:\n",
        "        (cropped_height + margin) * j + cropped_height,: ] = image\n"
      ],
      "metadata": {
        "id": "PaJ8Onw2nqrW"
      },
      "execution_count": null,
      "outputs": []
    },
    {
      "cell_type": "code",
      "source": [
        "plt.figure(figsize = (20,20))\n",
        "plt.title(layer_name,fontsize = 50)\n",
        "plt.imshow(stitched_filters)"
      ],
      "metadata": {
        "id": "uDCtwtrbnp0A"
      },
      "execution_count": null,
      "outputs": []
    },
    {
      "cell_type": "code",
      "source": [
        "keras.utils.save_img(f'filters_for_layer_{layer_name}.png', stitched_filters)\n"
      ],
      "metadata": {
        "id": "uP9Fi5Ws3jnA"
      },
      "execution_count": null,
      "outputs": []
    }
  ]
}