{
  "nbformat": 4,
  "nbformat_minor": 0,
  "metadata": {
    "colab": {
      "provenance": [],
      "toc_visible": true,
      "gpuType": "V28"
    },
    "kernelspec": {
      "name": "python3",
      "display_name": "Python 3"
    },
    "language_info": {
      "name": "python"
    },
    "accelerator": "TPU"
  },
  "cells": [
    {
      "cell_type": "markdown",
      "source": [
        "# Regression Problem\n",
        "\n",
        "# Loading the Boston Housing dataset"
      ],
      "metadata": {
        "id": "kU3weC0LSs94"
      }
    },
    {
      "cell_type": "code",
      "execution_count": null,
      "metadata": {
        "id": "Xj6wJIT2SBok",
        "colab": {
          "base_uri": "https://localhost:8080/"
        },
        "outputId": "9e4cbb70-1246-4534-d92b-e59ee95b1eae"
      },
      "outputs": [
        {
          "output_type": "stream",
          "name": "stdout",
          "text": [
            "Downloading data from https://storage.googleapis.com/tensorflow/tf-keras-datasets/boston_housing.npz\n",
            "57026/57026 [==============================] - 0s 0us/step\n"
          ]
        }
      ],
      "source": [
        "from keras.datasets import boston_housing\n",
        "\n",
        "(train_data, train_targets), (test_data, test_targets) = boston_housing.load_data()"
      ]
    },
    {
      "cell_type": "code",
      "source": [
        "train_data.shape"
      ],
      "metadata": {
        "id": "6wlE5-fjTCNo",
        "colab": {
          "base_uri": "https://localhost:8080/"
        },
        "outputId": "afdacb5f-5238-4d3a-96af-c8b76e0407d4"
      },
      "execution_count": null,
      "outputs": [
        {
          "output_type": "execute_result",
          "data": {
            "text/plain": [
              "(404, 13)"
            ]
          },
          "metadata": {},
          "execution_count": 2
        }
      ]
    },
    {
      "cell_type": "code",
      "source": [
        "test_data.shape"
      ],
      "metadata": {
        "id": "_lbQWJXVTbAn",
        "colab": {
          "base_uri": "https://localhost:8080/"
        },
        "outputId": "42f7816e-3c88-4b12-bdb9-9c9613465ae4"
      },
      "execution_count": null,
      "outputs": [
        {
          "output_type": "execute_result",
          "data": {
            "text/plain": [
              "(102, 13)"
            ]
          },
          "metadata": {},
          "execution_count": 3
        }
      ]
    },
    {
      "cell_type": "code",
      "source": [
        "train_targets"
      ],
      "metadata": {
        "id": "4hhzIqhiTdS1",
        "colab": {
          "base_uri": "https://localhost:8080/"
        },
        "outputId": "3ca91800-2420-4dab-b85a-146efbf81093"
      },
      "execution_count": null,
      "outputs": [
        {
          "output_type": "execute_result",
          "data": {
            "text/plain": [
              "array([15.2, 42.3, 50. , 21.1, 17.7, 18.5, 11.3, 15.6, 15.6, 14.4, 12.1,\n",
              "       17.9, 23.1, 19.9, 15.7,  8.8, 50. , 22.5, 24.1, 27.5, 10.9, 30.8,\n",
              "       32.9, 24. , 18.5, 13.3, 22.9, 34.7, 16.6, 17.5, 22.3, 16.1, 14.9,\n",
              "       23.1, 34.9, 25. , 13.9, 13.1, 20.4, 20. , 15.2, 24.7, 22.2, 16.7,\n",
              "       12.7, 15.6, 18.4, 21. , 30.1, 15.1, 18.7,  9.6, 31.5, 24.8, 19.1,\n",
              "       22. , 14.5, 11. , 32. , 29.4, 20.3, 24.4, 14.6, 19.5, 14.1, 14.3,\n",
              "       15.6, 10.5,  6.3, 19.3, 19.3, 13.4, 36.4, 17.8, 13.5, 16.5,  8.3,\n",
              "       14.3, 16. , 13.4, 28.6, 43.5, 20.2, 22. , 23. , 20.7, 12.5, 48.5,\n",
              "       14.6, 13.4, 23.7, 50. , 21.7, 39.8, 38.7, 22.2, 34.9, 22.5, 31.1,\n",
              "       28.7, 46. , 41.7, 21. , 26.6, 15. , 24.4, 13.3, 21.2, 11.7, 21.7,\n",
              "       19.4, 50. , 22.8, 19.7, 24.7, 36.2, 14.2, 18.9, 18.3, 20.6, 24.6,\n",
              "       18.2,  8.7, 44. , 10.4, 13.2, 21.2, 37. , 30.7, 22.9, 20. , 19.3,\n",
              "       31.7, 32. , 23.1, 18.8, 10.9, 50. , 19.6,  5. , 14.4, 19.8, 13.8,\n",
              "       19.6, 23.9, 24.5, 25. , 19.9, 17.2, 24.6, 13.5, 26.6, 21.4, 11.9,\n",
              "       22.6, 19.6,  8.5, 23.7, 23.1, 22.4, 20.5, 23.6, 18.4, 35.2, 23.1,\n",
              "       27.9, 20.6, 23.7, 28. , 13.6, 27.1, 23.6, 20.6, 18.2, 21.7, 17.1,\n",
              "        8.4, 25.3, 13.8, 22.2, 18.4, 20.7, 31.6, 30.5, 20.3,  8.8, 19.2,\n",
              "       19.4, 23.1, 23. , 14.8, 48.8, 22.6, 33.4, 21.1, 13.6, 32.2, 13.1,\n",
              "       23.4, 18.9, 23.9, 11.8, 23.3, 22.8, 19.6, 16.7, 13.4, 22.2, 20.4,\n",
              "       21.8, 26.4, 14.9, 24.1, 23.8, 12.3, 29.1, 21. , 19.5, 23.3, 23.8,\n",
              "       17.8, 11.5, 21.7, 19.9, 25. , 33.4, 28.5, 21.4, 24.3, 27.5, 33.1,\n",
              "       16.2, 23.3, 48.3, 22.9, 22.8, 13.1, 12.7, 22.6, 15. , 15.3, 10.5,\n",
              "       24. , 18.5, 21.7, 19.5, 33.2, 23.2,  5. , 19.1, 12.7, 22.3, 10.2,\n",
              "       13.9, 16.3, 17. , 20.1, 29.9, 17.2, 37.3, 45.4, 17.8, 23.2, 29. ,\n",
              "       22. , 18. , 17.4, 34.6, 20.1, 25. , 15.6, 24.8, 28.2, 21.2, 21.4,\n",
              "       23.8, 31. , 26.2, 17.4, 37.9, 17.5, 20. ,  8.3, 23.9,  8.4, 13.8,\n",
              "        7.2, 11.7, 17.1, 21.6, 50. , 16.1, 20.4, 20.6, 21.4, 20.6, 36.5,\n",
              "        8.5, 24.8, 10.8, 21.9, 17.3, 18.9, 36.2, 14.9, 18.2, 33.3, 21.8,\n",
              "       19.7, 31.6, 24.8, 19.4, 22.8,  7.5, 44.8, 16.8, 18.7, 50. , 50. ,\n",
              "       19.5, 20.1, 50. , 17.2, 20.8, 19.3, 41.3, 20.4, 20.5, 13.8, 16.5,\n",
              "       23.9, 20.6, 31.5, 23.3, 16.8, 14. , 33.8, 36.1, 12.8, 18.3, 18.7,\n",
              "       19.1, 29. , 30.1, 50. , 50. , 22. , 11.9, 37.6, 50. , 22.7, 20.8,\n",
              "       23.5, 27.9, 50. , 19.3, 23.9, 22.6, 15.2, 21.7, 19.2, 43.8, 20.3,\n",
              "       33.2, 19.9, 22.5, 32.7, 22. , 17.1, 19. , 15. , 16.1, 25.1, 23.7,\n",
              "       28.7, 37.2, 22.6, 16.4, 25. , 29.8, 22.1, 17.4, 18.1, 30.3, 17.5,\n",
              "       24.7, 12.6, 26.5, 28.7, 13.3, 10.4, 24.4, 23. , 20. , 17.8,  7. ,\n",
              "       11.8, 24.4, 13.8, 19.4, 25.2, 19.4, 19.4, 29.1])"
            ]
          },
          "metadata": {},
          "execution_count": 4
        }
      ]
    },
    {
      "cell_type": "markdown",
      "source": [
        "# Normalizing the data"
      ],
      "metadata": {
        "id": "0JpiFOIzTwmb"
      }
    },
    {
      "cell_type": "code",
      "source": [
        "mean = train_data.mean(axis=0)\n",
        "train_data -= mean\n",
        "std = train_data.std(axis = 0)\n",
        "train_data /= std\n",
        "\n",
        "test_data -= mean\n",
        "test_data /= std"
      ],
      "metadata": {
        "id": "_HbXJQ0CTpmZ"
      },
      "execution_count": null,
      "outputs": []
    },
    {
      "cell_type": "markdown",
      "source": [
        "# Model definition"
      ],
      "metadata": {
        "id": "G_BAi8_1VaE8"
      }
    },
    {
      "cell_type": "code",
      "source": [
        "from keras import models\n",
        "from keras import layers"
      ],
      "metadata": {
        "id": "XthNrne4UUoz"
      },
      "execution_count": null,
      "outputs": []
    },
    {
      "cell_type": "code",
      "source": [
        "def build_model():\n",
        "  model = models.Sequential()\n",
        "  model.add(layers.Dense(64, activation = \"relu\",\n",
        "                         input_shape = (train_data.shape[1],)))\n",
        "  model.add(layers.Dense(64, activation=\"relu\"))\n",
        "  model.add(layers.Dense(1))\n",
        "  model.compile(optimizer=\"rmsprop\",\n",
        "                loss = \"mse\",\n",
        "                metrics = [\"mae\"])\n",
        "  return model"
      ],
      "metadata": {
        "id": "j8ZOGLrOUVqn"
      },
      "execution_count": null,
      "outputs": []
    },
    {
      "cell_type": "markdown",
      "source": [
        "# K-fold validation"
      ],
      "metadata": {
        "id": "ki2j7t-f7bkO"
      }
    },
    {
      "cell_type": "code",
      "source": [
        "import numpy as np\n",
        "\n",
        "k = 4\n",
        "num_val_samples = len(train_data) // k\n",
        "num_epochs = 100\n",
        "all_scores = []\n",
        "\n",
        "for i in range(k):\n",
        "  print(\"processing fold #\", i)\n",
        "  val_data = train_data[i * num_val_samples: (i + 1) * num_val_samples]\n",
        "  val_targets = train_targets[i  * num_val_samples: (i + 1) * num_val_samples]\n",
        "\n",
        "  partial_train_data = np.concatenate([train_data[: i * num_val_samples],\n",
        "                                          train_data[(i+1) * num_val_samples:]], axis=0)\n",
        "\n",
        "  partial_train_targets = np.concatenate([train_targets[:i * num_val_samples],\n",
        "                                          train_targets[(i + 1) * num_val_samples:]], axis = 0)\n",
        "\n",
        "\n",
        "  model = build_model()\n",
        "  model.fit(partial_train_data, partial_train_targets,\n",
        "            epochs = num_epochs, batch_size=1, verbose = 0)\n",
        "  val_mse, val_mae = model.evaluate(val_data, val_targets, verbose = 0)\n",
        "  all_scores.append(val_mae)\n"
      ],
      "metadata": {
        "id": "PdrcEehv7loP",
        "colab": {
          "base_uri": "https://localhost:8080/"
        },
        "outputId": "3ab4c504-cd3b-4727-ada1-556c1cf2ebe8"
      },
      "execution_count": null,
      "outputs": [
        {
          "output_type": "stream",
          "name": "stdout",
          "text": [
            "processing fold # 0\n",
            "processing fold # 1\n",
            "processing fold # 2\n",
            "processing fold # 3\n"
          ]
        }
      ]
    },
    {
      "cell_type": "code",
      "source": [
        "all_scores"
      ],
      "metadata": {
        "id": "ChbguxnD8AzY",
        "colab": {
          "base_uri": "https://localhost:8080/"
        },
        "outputId": "83f4be5a-c37c-47a7-d8c6-0c7a41bfd5f4"
      },
      "execution_count": null,
      "outputs": [
        {
          "output_type": "execute_result",
          "data": {
            "text/plain": [
              "[1.8409582376480103, 2.883427381515503, 2.716474771499634, 2.408557653427124]"
            ]
          },
          "metadata": {},
          "execution_count": 9
        }
      ]
    },
    {
      "cell_type": "code",
      "source": [
        "np.mean(all_scores)"
      ],
      "metadata": {
        "id": "7YqUtNDhA17N",
        "colab": {
          "base_uri": "https://localhost:8080/"
        },
        "outputId": "79119dd3-df63-430a-c9c5-a3b4562f9905"
      },
      "execution_count": null,
      "outputs": [
        {
          "output_type": "execute_result",
          "data": {
            "text/plain": [
              "2.4623545110225677"
            ]
          },
          "metadata": {},
          "execution_count": 10
        }
      ]
    },
    {
      "cell_type": "markdown",
      "source": [
        "# Saving the validation logs at each fold"
      ],
      "metadata": {
        "id": "Y5uA-zURBh9h"
      }
    },
    {
      "cell_type": "code",
      "source": [
        "num_epochs = 500\n",
        "all_mae_histories = []\n",
        "for i in range(k):\n",
        "  print(\"processing fold #\", i)\n",
        "  val_data = train_data[i * num_val_samples: (i + 1) * num_val_samples]\n",
        "  val_targets = train_targets[i * num_val_samples: (i + 1) * num_val_samples]\n",
        "\n",
        "  partial_train_data = np.concatenate(\n",
        "      [train_data[:i * num_val_samples],\n",
        "       train_data[(i + 1) * num_val_samples:]],\n",
        "      axis = 0)\n",
        "\n",
        "  partial_train_targets = np.concatenate(\n",
        "      [train_targets[:i * num_val_samples],\n",
        "       train_targets[(i + 1) * num_val_samples:]],\n",
        "      axis = 0)\n",
        "  model = build_model()\n",
        "  history = model.fit(partial_train_data, partial_train_targets,\n",
        "                      validation_data = (val_data, val_targets),\n",
        "                      epochs = num_epochs, batch_size = 1, verbose = 0)\n",
        "\n",
        "  mae_history = history.history[\"val_mae\"]\n",
        "  all_mae_histories.append(mae_history)"
      ],
      "metadata": {
        "id": "6Nz5vKddBtL6",
        "colab": {
          "base_uri": "https://localhost:8080/"
        },
        "outputId": "ca6e0c59-99aa-4b87-81e1-0610e87f748a"
      },
      "execution_count": null,
      "outputs": [
        {
          "output_type": "stream",
          "name": "stdout",
          "text": [
            "processing fold # 0\n",
            "processing fold # 1\n",
            "processing fold # 2\n",
            "processing fold # 3\n"
          ]
        }
      ]
    },
    {
      "cell_type": "markdown",
      "source": [
        "# Building the history of successive mean K-fold validation scores"
      ],
      "metadata": {
        "id": "MfNONkRr0ksZ"
      }
    },
    {
      "cell_type": "code",
      "source": [
        "average_mae_history = [np.mean([x[i] for x in all_mae_histories]) for i in range(num_epochs)]"
      ],
      "metadata": {
        "id": "xQbzNaw406Lx"
      },
      "execution_count": null,
      "outputs": []
    },
    {
      "cell_type": "markdown",
      "source": [
        "# Plotting validation scores"
      ],
      "metadata": {
        "id": "2ua82VDW2w50"
      }
    },
    {
      "cell_type": "code",
      "source": [
        "import matplotlib.pyplot as plt\n",
        "\n",
        "plt.plot(range(1, len(average_mae_history) + 1), average_mae_history)\n",
        "plt.xlabel(\"Epochs\")\n",
        "plt.ylabel(\"Validation MAE\")\n",
        "plt.show()\n"
      ],
      "metadata": {
        "id": "eaeFexOI1O4l",
        "colab": {
          "base_uri": "https://localhost:8080/",
          "height": 449
        },
        "outputId": "27281456-0f75-49ac-e0a8-5eff2fe67aff"
      },
      "execution_count": null,
      "outputs": [
        {
          "output_type": "display_data",
          "data": {
            "text/plain": [
              "<Figure size 640x480 with 1 Axes>"
            ],
            "image/png": "[encoded data removed]"
          },
          "metadata": {}
        }
      ]
    },
    {
      "cell_type": "markdown",
      "source": [
        "# Plotting validation scores, excluding the first 10 data points"
      ],
      "metadata": {
        "id": "vQrtm5F_3Vfi"
      }
    },
    {
      "cell_type": "code",
      "source": [
        "def smooth_curve(points, factor = 0.9):\n",
        "  smoothed_points = []\n",
        "  for point in points:\n",
        "    if smoothed_points:\n",
        "      previous = smoothed_points[-1]\n",
        "      smoothed_points.append(previous * factor + point * (1 - factor))\n",
        "    else:\n",
        "      smoothed_points.append(point)\n",
        "\n",
        "  return smoothed_points\n",
        "\n",
        "\n",
        "smooth_mae_history = smooth_curve(average_mae_history[10:])\n",
        "\n",
        "plt.plot(range(1, len(smooth_mae_history) + 1), smooth_mae_history)\n",
        "plt.xlabel(\"Epochs\")\n",
        "plt.ylabel(\"Validation MAE\")\n",
        "plt.show()"
      ],
      "metadata": {
        "id": "F3NTY56d3R4L",
        "colab": {
          "base_uri": "https://localhost:8080/",
          "height": 449
        },
        "outputId": "ec381be1-be9e-4c60-c113-db93804c9bf0"
      },
      "execution_count": null,
      "outputs": [
        {
          "output_type": "display_data",
          "data": {
            "text/plain": [
              "<Figure size 640x480 with 1 Axes>"
            ],
            "image/png": "[encoded data removed]"
          },
          "metadata": {}
        }
      ]
    },
    {
      "cell_type": "markdown",
      "source": [
        "# Training the final model"
      ],
      "metadata": {
        "id": "Sqxeo_oo5E-P"
      }
    },
    {
      "cell_type": "code",
      "source": [
        "model = build_model()\n",
        "model.fit(train_data, train_targets,\n",
        "          epochs = 80, batch_size = 16)\n",
        "test_mse_score, test_mae_score = model.evaluate(test_data, test_targets)"
      ],
      "metadata": {
        "id": "sN9J25UD5MMI",
        "colab": {
          "base_uri": "https://localhost:8080/"
        },
        "outputId": "40ab8584-2070-44a4-f4bf-546d0a97ea2e"
      },
      "execution_count": null,
      "outputs": [
        {
          "output_type": "stream",
          "name": "stdout",
          "text": [
            "Epoch 1/80\n",
            "26/26 [==============================] - 0s 1ms/step - loss: 471.4975 - mae: 19.5682\n",
            "Epoch 2/80\n",
            "26/26 [==============================] - 0s 1ms/step - loss: 286.8386 - mae: 14.3960\n",
            "Epoch 3/80\n",
            "26/26 [==============================] - 0s 1ms/step - loss: 121.8626 - mae: 8.6907\n",
            "Epoch 4/80\n",
            "26/26 [==============================] - 0s 1ms/step - loss: 55.1368 - mae: 5.5155\n",
            "Epoch 5/80\n",
            "26/26 [==============================] - 0s 1ms/step - loss: 34.9617 - mae: 4.2560\n",
            "Epoch 6/80\n",
            "26/26 [==============================] - 0s 1ms/step - loss: 26.8899 - mae: 3.6415\n",
            "Epoch 7/80\n",
            "26/26 [==============================] - 0s 1ms/step - loss: 22.9887 - mae: 3.3663\n",
            "Epoch 8/80\n",
            "26/26 [==============================] - 0s 1ms/step - loss: 20.5722 - mae: 3.1603\n",
            "Epoch 9/80\n",
            "26/26 [==============================] - 0s 1ms/step - loss: 18.2236 - mae: 2.9653\n",
            "Epoch 10/80\n",
            "26/26 [==============================] - 0s 1ms/step - loss: 16.4638 - mae: 2.8247\n",
            "Epoch 11/80\n",
            "26/26 [==============================] - 0s 1ms/step - loss: 15.0761 - mae: 2.7397\n",
            "Epoch 12/80\n",
            "26/26 [==============================] - 0s 1ms/step - loss: 14.2032 - mae: 2.6379\n",
            "Epoch 13/80\n",
            "26/26 [==============================] - 0s 1ms/step - loss: 13.3004 - mae: 2.5821\n",
            "Epoch 14/80\n",
            "26/26 [==============================] - 0s 1ms/step - loss: 12.4440 - mae: 2.4490\n",
            "Epoch 15/80\n",
            "26/26 [==============================] - 0s 1ms/step - loss: 11.8174 - mae: 2.4687\n",
            "Epoch 16/80\n",
            "26/26 [==============================] - 0s 1ms/step - loss: 11.6066 - mae: 2.3763\n",
            "Epoch 17/80\n",
            "26/26 [==============================] - 0s 1ms/step - loss: 11.2113 - mae: 2.3663\n",
            "Epoch 18/80\n",
            "26/26 [==============================] - 0s 1ms/step - loss: 10.8926 - mae: 2.3297\n",
            "Epoch 19/80\n",
            "26/26 [==============================] - 0s 1ms/step - loss: 10.4841 - mae: 2.2759\n",
            "Epoch 20/80\n",
            "26/26 [==============================] - 0s 1ms/step - loss: 10.3600 - mae: 2.2701\n",
            "Epoch 21/80\n",
            "26/26 [==============================] - 0s 1ms/step - loss: 9.9588 - mae: 2.2125\n",
            "Epoch 22/80\n",
            "26/26 [==============================] - 0s 1ms/step - loss: 9.8163 - mae: 2.2015\n",
            "Epoch 23/80\n",
            "26/26 [==============================] - 0s 1ms/step - loss: 9.6927 - mae: 2.2099\n",
            "Epoch 24/80\n",
            "26/26 [==============================] - 0s 1ms/step - loss: 9.5185 - mae: 2.1818\n",
            "Epoch 25/80\n",
            "26/26 [==============================] - 0s 2ms/step - loss: 9.5625 - mae: 2.1656\n",
            "Epoch 26/80\n",
            "26/26 [==============================] - 0s 1ms/step - loss: 9.2979 - mae: 2.1459\n",
            "Epoch 27/80\n",
            "26/26 [==============================] - 0s 1ms/step - loss: 9.1895 - mae: 2.1776\n",
            "Epoch 28/80\n",
            "26/26 [==============================] - 0s 1ms/step - loss: 9.1190 - mae: 2.1000\n",
            "Epoch 29/80\n",
            "26/26 [==============================] - 0s 1ms/step - loss: 8.9983 - mae: 2.1214\n",
            "Epoch 30/80\n",
            "26/26 [==============================] - 0s 1ms/step - loss: 8.8426 - mae: 2.0992\n",
            "Epoch 31/80\n",
            "26/26 [==============================] - 0s 2ms/step - loss: 8.8077 - mae: 2.1191\n",
            "Epoch 32/80\n",
            "26/26 [==============================] - 0s 1ms/step - loss: 8.6011 - mae: 2.0669\n",
            "Epoch 33/80\n",
            "26/26 [==============================] - 0s 1ms/step - loss: 8.5666 - mae: 2.0759\n",
            "Epoch 34/80\n",
            "26/26 [==============================] - 0s 1ms/step - loss: 8.3922 - mae: 2.0372\n",
            "Epoch 35/80\n",
            "26/26 [==============================] - 0s 1ms/step - loss: 8.2564 - mae: 2.0829\n",
            "Epoch 36/80\n",
            "26/26 [==============================] - 0s 2ms/step - loss: 8.2182 - mae: 2.0173\n",
            "Epoch 37/80\n",
            "26/26 [==============================] - 0s 1ms/step - loss: 8.1342 - mae: 2.0370\n",
            "Epoch 38/80\n",
            "26/26 [==============================] - 0s 1ms/step - loss: 8.0877 - mae: 2.0140\n",
            "Epoch 39/80\n",
            "26/26 [==============================] - 0s 1ms/step - loss: 8.1464 - mae: 2.0264\n",
            "Epoch 40/80\n",
            "26/26 [==============================] - 0s 1ms/step - loss: 7.9977 - mae: 2.0174\n",
            "Epoch 41/80\n",
            "26/26 [==============================] - 0s 1ms/step - loss: 7.8614 - mae: 1.9895\n",
            "Epoch 42/80\n",
            "26/26 [==============================] - 0s 1ms/step - loss: 7.8974 - mae: 1.9926\n",
            "Epoch 43/80\n",
            "26/26 [==============================] - 0s 1ms/step - loss: 7.9033 - mae: 2.0250\n",
            "Epoch 44/80\n",
            "26/26 [==============================] - 0s 1ms/step - loss: 7.5543 - mae: 1.9423\n",
            "Epoch 45/80\n",
            "26/26 [==============================] - 0s 1ms/step - loss: 7.4935 - mae: 1.9422\n",
            "Epoch 46/80\n",
            "26/26 [==============================] - 0s 1ms/step - loss: 7.6760 - mae: 1.9478\n",
            "Epoch 47/80\n",
            "26/26 [==============================] - 0s 1ms/step - loss: 7.4776 - mae: 1.9321\n",
            "Epoch 48/80\n",
            "26/26 [==============================] - 0s 1ms/step - loss: 7.4677 - mae: 1.9333\n",
            "Epoch 49/80\n",
            "26/26 [==============================] - 0s 1ms/step - loss: 7.4401 - mae: 1.9515\n",
            "Epoch 50/80\n",
            "26/26 [==============================] - 0s 1ms/step - loss: 7.2835 - mae: 1.8950\n",
            "Epoch 51/80\n",
            "26/26 [==============================] - 0s 1ms/step - loss: 7.2547 - mae: 1.9160\n",
            "Epoch 52/80\n",
            "26/26 [==============================] - 0s 1ms/step - loss: 7.2802 - mae: 1.9133\n",
            "Epoch 53/80\n",
            "26/26 [==============================] - 0s 1ms/step - loss: 6.9699 - mae: 1.8786\n",
            "Epoch 54/80\n",
            "26/26 [==============================] - 0s 1ms/step - loss: 7.1869 - mae: 1.9008\n",
            "Epoch 55/80\n",
            "26/26 [==============================] - 0s 1ms/step - loss: 7.1989 - mae: 1.8784\n",
            "Epoch 56/80\n",
            "26/26 [==============================] - 0s 1ms/step - loss: 7.1512 - mae: 1.9211\n",
            "Epoch 57/80\n",
            "26/26 [==============================] - 0s 1ms/step - loss: 6.8958 - mae: 1.8539\n",
            "Epoch 58/80\n",
            "26/26 [==============================] - 0s 1ms/step - loss: 6.9505 - mae: 1.8570\n",
            "Epoch 59/80\n",
            "26/26 [==============================] - 0s 1ms/step - loss: 7.0105 - mae: 1.8638\n",
            "Epoch 60/80\n",
            "26/26 [==============================] - 0s 1ms/step - loss: 6.8671 - mae: 1.9056\n",
            "Epoch 61/80\n",
            "26/26 [==============================] - 0s 1ms/step - loss: 6.7445 - mae: 1.8274\n",
            "Epoch 62/80\n",
            "26/26 [==============================] - 0s 1ms/step - loss: 6.7120 - mae: 1.8300\n",
            "Epoch 63/80\n",
            "26/26 [==============================] - 0s 1ms/step - loss: 6.6283 - mae: 1.8175\n",
            "Epoch 64/80\n",
            "26/26 [==============================] - 0s 1ms/step - loss: 6.6615 - mae: 1.8623\n",
            "Epoch 65/80\n",
            "26/26 [==============================] - 0s 1ms/step - loss: 6.4249 - mae: 1.7876\n",
            "Epoch 66/80\n",
            "26/26 [==============================] - 0s 1ms/step - loss: 6.3855 - mae: 1.7834\n",
            "Epoch 67/80\n",
            "26/26 [==============================] - 0s 1ms/step - loss: 6.4247 - mae: 1.8015\n",
            "Epoch 68/80\n",
            "26/26 [==============================] - 0s 1ms/step - loss: 6.4487 - mae: 1.8083\n",
            "Epoch 69/80\n",
            "26/26 [==============================] - 0s 1ms/step - loss: 6.3085 - mae: 1.7961\n",
            "Epoch 70/80\n",
            "26/26 [==============================] - 0s 1ms/step - loss: 6.2669 - mae: 1.7349\n",
            "Epoch 71/80\n",
            "26/26 [==============================] - 0s 1ms/step - loss: 6.2395 - mae: 1.7888\n",
            "Epoch 72/80\n",
            "26/26 [==============================] - 0s 1ms/step - loss: 6.2591 - mae: 1.7951\n",
            "Epoch 73/80\n",
            "26/26 [==============================] - 0s 1ms/step - loss: 6.2417 - mae: 1.7510\n",
            "Epoch 74/80\n",
            "26/26 [==============================] - 0s 1ms/step - loss: 6.1739 - mae: 1.7720\n",
            "Epoch 75/80\n",
            "26/26 [==============================] - 0s 1ms/step - loss: 6.1484 - mae: 1.7730\n",
            "Epoch 76/80\n",
            "26/26 [==============================] - 0s 1ms/step - loss: 6.0449 - mae: 1.7549\n",
            "Epoch 77/80\n",
            "26/26 [==============================] - 0s 1ms/step - loss: 6.0113 - mae: 1.7458\n",
            "Epoch 78/80\n",
            "26/26 [==============================] - 0s 1ms/step - loss: 6.0093 - mae: 1.7431\n",
            "Epoch 79/80\n",
            "26/26 [==============================] - 0s 1ms/step - loss: 5.9298 - mae: 1.7001\n",
            "Epoch 80/80\n",
            "26/26 [==============================] - 0s 1ms/step - loss: 5.8991 - mae: 1.6992\n",
            "4/4 [==============================] - 0s 2ms/step - loss: 17.8205 - mae: 2.5556\n"
          ]
        }
      ]
    },
    {
      "cell_type": "code",
      "source": [
        "test_mae_score"
      ],
      "metadata": {
        "id": "HlNiYvmI5nAY"
      },
      "execution_count": null,
      "outputs": []
    },
    {
      "cell_type": "code",
      "source": [],
      "metadata": {
        "id": "pV3x3e5W5seb"
      },
      "execution_count": null,
      "outputs": []
    }
  ]
}