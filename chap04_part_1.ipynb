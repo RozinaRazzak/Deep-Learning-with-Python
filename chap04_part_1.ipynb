{
  "nbformat": 4,
  "nbformat_minor": 0,
  "metadata": {
    "colab": {
      "provenance": [],
      "gpuType": "T4"
    },
    "kernelspec": {
      "name": "python3",
      "display_name": "Python 3"
    },
    "language_info": {
      "name": "python"
    }
  },
  "cells": [
    {
      "cell_type": "markdown",
      "source": [
        "# Simple Hold-out validation"
      ],
      "metadata": {
        "id": "kKta3M10u2LF"
      }
    },
    {
      "cell_type": "code",
      "source": [
        "import numpy as np"
      ],
      "metadata": {
        "id": "ZBvj2WjhvEMx"
      },
      "execution_count": null,
      "outputs": []
    },
    {
      "cell_type": "code",
      "source": [
        "data = np.arange(100000)"
      ],
      "metadata": {
        "id": "u_2dIfp8wOWA"
      },
      "execution_count": null,
      "outputs": []
    },
    {
      "cell_type": "code",
      "source": [
        "\"\"\"num_validation_samples = 10000\n",
        "\n",
        "np.random.shuffle(data)\n",
        "\n",
        "validation_data = data[:num_validation_samples]\n",
        "data = data[num_validation_samples:]\n",
        "\n",
        "training_data = data[:]\n",
        "\n",
        "model = get_model()\n",
        "model.train(training_data)\n",
        "validation_score = model.evaluate(validation_data)\n",
        "\n",
        "# At this point you can tune your model,\n",
        "# retrain it, evaluate it, tune it again...\n",
        "\n",
        "model = get_model()\n",
        "model.train(np.concatenate([training_data,\n",
        "validation_data]))\n",
        "test_score = model.evaluate(test_data)\n",
        "\n",
        "test_score = model.evaluate(test_data)\"\"\";\n"
      ],
      "metadata": {
        "id": "X2To3dIOvW8X"
      },
      "execution_count": null,
      "outputs": []
    },
    {
      "cell_type": "markdown",
      "source": [
        "# K-fold cross-validation"
      ],
      "metadata": {
        "id": "tciLNfRiyYVd"
      }
    },
    {
      "cell_type": "code",
      "source": [
        "\"\"\"k = 4\n",
        "num_validation_samples = len(data) // k\n",
        "\n",
        "np.random.shuffle(data)\n",
        "\n",
        "valdation_scores = []\n",
        "\n",
        "for fold in range(k):\n",
        "  validation_data = data[num_validation_samples* fold: num_validation_samples * (fold + 1)]\n",
        "  training_data = data[:num_validation_samples * fold] + data[num_validation_samples * (fold + 1):]\n",
        "\n",
        "  model = get_model()\n",
        "  model.train(training_data)\n",
        "  validation_score = model.evaluate(validation_data)\n",
        "  validation_scores.append(validation_score)\n",
        "\n",
        "validation_score = np.average(valdation_scores)\n",
        "\n",
        "model = get_model()\n",
        "model.train(data)\n",
        "test_score = model.evaluate(test_data)\"\"\";"
      ],
      "metadata": {
        "id": "gZJNppRnvzDF"
      },
      "execution_count": null,
      "outputs": []
    },
    {
      "cell_type": "code",
      "source": [],
      "metadata": {
        "id": "EUvgV31s1kLw"
      },
      "execution_count": null,
      "outputs": []
    }
  ]
}