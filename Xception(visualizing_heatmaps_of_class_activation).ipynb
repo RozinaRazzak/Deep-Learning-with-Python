{
  "nbformat": 4,
  "nbformat_minor": 0,
  "metadata": {
    "colab": {
      "provenance": [],
      "gpuType": "T4"
    },
    "kernelspec": {
      "name": "python3",
      "display_name": "Python 3"
    },
    "language_info": {
      "name": "python"
    },
    "accelerator": "GPU"
  },
  "cells": [
    {
      "cell_type": "markdown",
      "source": [
        "# Loading the Xception network with pretained weights"
      ],
      "metadata": {
        "id": "exZTmosEjZii"
      }
    },
    {
      "cell_type": "code",
      "source": [
        "import keras\n",
        "import tensorflow as tf\n",
        "import numpy as np\n",
        "import matplotlib.pyplot as plt"
      ],
      "metadata": {
        "id": "0F2b0hwBkARG"
      },
      "execution_count": null,
      "outputs": []
    },
    {
      "cell_type": "code",
      "source": [
        "model = keras.applications.xception.Xception(weights = 'imagenet')"
      ],
      "metadata": {
        "id": "impmaXaLj5DK"
      },
      "execution_count": null,
      "outputs": []
    },
    {
      "cell_type": "markdown",
      "source": [
        "# Preprocessing an input image for Xception"
      ],
      "metadata": {
        "id": "oyy9M0zdkhLo"
      }
    },
    {
      "cell_type": "code",
      "source": [
        "img_path  = keras.utils.get_file(\n",
        "    fname = 'elephant.jpg',\n",
        "    origin = 'https://img-datasets.s3.amazonaws.com/elephant.jpg')\n",
        "\n",
        "\n",
        "def get_img_array(img_path, target_size):\n",
        "  img = keras.utils.load_img(img_path, target_size = target_size)\n",
        "  array = keras.utils.img_to_array(img)\n",
        "  array = np.expand_dims(array,axis = 0)\n",
        "  array = keras.applications.xception.preprocess_input(array)\n",
        "  return array"
      ],
      "metadata": {
        "id": "7OmYWzR-knNk"
      },
      "execution_count": null,
      "outputs": []
    },
    {
      "cell_type": "code",
      "source": [
        "img_array = get_img_array(img_path, target_size = (299,299))"
      ],
      "metadata": {
        "id": "vCq8kLnIpnzn"
      },
      "execution_count": null,
      "outputs": []
    },
    {
      "cell_type": "code",
      "source": [
        "preds = model.predict(img_array)\n",
        "print(keras.applications.xception.decode_predictions(preds,top=3)[0])"
      ],
      "metadata": {
        "id": "bEgZC9XHu3RQ"
      },
      "execution_count": null,
      "outputs": []
    },
    {
      "cell_type": "code",
      "source": [
        "np.argmax(preds[0])"
      ],
      "metadata": {
        "id": "GfyaHPVIvhGB"
      },
      "execution_count": null,
      "outputs": []
    },
    {
      "cell_type": "markdown",
      "source": [
        "# Setting up amodel that returns the last convolutional output"
      ],
      "metadata": {
        "id": "zV5biQD9vWRF"
      }
    },
    {
      "cell_type": "code",
      "source": [
        "last_conv_layer_name = 'block14_sepconv2_act'\n",
        "classifier_layer_name = ['avg_pool', 'predictions']\n",
        "last_conv_layer = model.get_layer(last_conv_layer_name)\n",
        "last_conv_layer_model = keras.Model(model.inputs, last_conv_layer.output)"
      ],
      "metadata": {
        "id": "IIFDA_gAvcuP"
      },
      "execution_count": null,
      "outputs": []
    },
    {
      "cell_type": "markdown",
      "source": [
        "# Reapplying the classifier on top of the last convolutional output"
      ],
      "metadata": {
        "id": "HdztZM3nwF_y"
      }
    },
    {
      "cell_type": "code",
      "source": [
        "classifier_input = keras.Input(shape = last_conv_layer.output.shape[1:])\n",
        "x = classifier_input\n",
        "for layer_name in classifier_layer_name:\n",
        "  x = model.get_layer(layer_name)(x)\n",
        "classifier_model = keras.Model(classifier_input, x)"
      ],
      "metadata": {
        "id": "YqH9-ciiwFUG"
      },
      "execution_count": null,
      "outputs": []
    },
    {
      "cell_type": "markdown",
      "source": [
        "# Retrieving the gradients of the top predicted class"
      ],
      "metadata": {
        "id": "iYkv19MCw7xv"
      }
    },
    {
      "cell_type": "code",
      "source": [
        "with tf.GradientTape() as tape:\n",
        "  last_conv_layer_output = last_conv_layer_model(img_array)\n",
        "  tape.watch(last_conv_layer_output)\n",
        "  preds = classifier_model(last_conv_layer_output)\n",
        "  top_pred_index = tf.argmax(preds[0])\n",
        "  top_class_channel = preds[:,top_pred_index]\n",
        "\n",
        "grads = tape.gradient(top_class_channel, last_conv_layer_output)\n"
      ],
      "metadata": {
        "id": "tC-1AJDmxFHC"
      },
      "execution_count": null,
      "outputs": []
    },
    {
      "cell_type": "markdown",
      "source": [
        "# Gradient pooling and channel-importance weighting"
      ],
      "metadata": {
        "id": "rTfWWiMyySGi"
      }
    },
    {
      "cell_type": "code",
      "source": [
        "pooled_grads = tf.reduce_mean(grads, axis=(0,1,2)).numpy()\n",
        "last_conv_layer_output = last_conv_layer_output.numpy()[0]\n",
        "for i in range(pooled_grads.shape[-1]):\n",
        "  last_conv_layer_output[:,:,i] *= pooled_grads[i]\n",
        "\n",
        "heatmap = np.mean(last_conv_layer_output, axis = -1)"
      ],
      "metadata": {
        "id": "bZkepHI8yYwZ"
      },
      "execution_count": null,
      "outputs": []
    },
    {
      "cell_type": "markdown",
      "source": [
        "# Heatmap post-processing"
      ],
      "metadata": {
        "id": "JeVu4YWfzEpH"
      }
    },
    {
      "cell_type": "code",
      "source": [
        "heatmap = np.maximum(heatmap,0)\n",
        "heatmap /= np.max(heatmap)\n",
        "plt.matshow(heatmap)"
      ],
      "metadata": {
        "id": "93MjGP3AzJf6"
      },
      "execution_count": null,
      "outputs": []
    },
    {
      "cell_type": "markdown",
      "source": [
        "# Superimposing the heatmap on the original picture"
      ],
      "metadata": {
        "id": "pqF-17rLzc5l"
      }
    },
    {
      "cell_type": "code",
      "source": [
        "import matplotlib.cm as cm\n",
        "\n",
        "img = keras.utils.load_img(img_path)\n",
        "img = keras.utils.img_to_array(img)\n",
        "\n",
        "heatmap = np.uint8(255 * heatmap)\n",
        "\n",
        "jet = cm.get_cmap('jet')\n",
        "jet_colors = jet(np.arange(256))[:,:3]\n",
        "jet_heatmap = jet_colors[heatmap]\n",
        "\n",
        "jet_heatmap = keras.utils.array_to_img(jet_heatmap)\n",
        "jet_heatmap = jet_heatmap.resize((img.shape[1], img.shape[0]))\n",
        "jet_heatmap = keras.utils.img_to_array(jet_heatmap)\n",
        "\n",
        "superimposed_img = jet_heatmap * 0.4 + img\n",
        "superimposed_img = keras.utils.array_to_img(superimposed_img)\n",
        "\n",
        "save_path = 'elephant_cam.jpg'\n",
        "superimposed_img.save(save_path)\n",
        "plt.imshow(superimposed_img)"
      ],
      "metadata": {
        "id": "GMWtApkZzm4q"
      },
      "execution_count": null,
      "outputs": []
    },
    {
      "cell_type": "code",
      "source": [],
      "metadata": {
        "id": "MOOKez3v2xSC"
      },
      "execution_count": null,
      "outputs": []
    }
  ]
}